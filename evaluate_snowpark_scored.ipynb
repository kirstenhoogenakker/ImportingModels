{
 "cells": [
  {
   "cell_type": "code",
   "execution_count": 0,
   "metadata": {},
   "outputs": [],
   "source": [
    "# -*- coding: utf-8 -*-\n",
    "import dataiku\n",
    "import pandas as pd, numpy as np\n",
    "from dataiku.snowpark import DkuSnowpark\n",
    "\n",
    "from snowflake.snowpark import Session\n",
    "from snowflake.snowpark.functions import udf\n",
    "from snowflake.snowpark.session import Session\n",
    "from snowflake.snowpark import functions as F\n",
    "from snowflake.snowpark import version\n",
    "from snowflake.snowpark.types import *\n",
    "from snowflake.snowpark.functions import when, col, lit, avg, stddev, stddev_pop , round, log\n",
    "\n",
    "import mlflow\n",
    "import os"
   ]
  },
  {
   "cell_type": "code",
   "execution_count": 0,
   "metadata": {},
   "outputs": [],
   "source": [
    "# Use the Dataiku S3 connection API to set our AWS credentials, which will be required to read our model from S3 for scoring in Snowflake UDF\n",
    "client = dataiku.api_client()\n",
    "\n",
    "s3_conn = client.get_connection(\"s3\")\n",
    "s3_conn_info = s3_conn.get_info()\n",
    "\n",
    "os.environ[\"AWS_ACCESS_KEY_ID\"] = s3_conn_info[\"resolvedAWSCredential\"][\"accessKey\"]\n",
    "os.environ[\"AWS_SECRET_ACCESS_KEY\"] = s3_conn_info[\"resolvedAWSCredential\"][\"secretKey\"]\n",
    "os.environ[\"AWS_SESSION_TOKEN\"] = s3_conn_info[\"resolvedAWSCredential\"][\"sessionToken\"]\n",
    "os.environ[\"AWS_DEFAULT_REGION\"] = \"us-west-1\"\n",
    "\n",
    "project_key = dataiku.default_project_key()\n",
    "final_table_name = project_key + \"_UCI_BANK_EVALUATE_SNOWPARK_SCORED\""
   ]
  },
  {
   "cell_type": "code",
   "execution_count": 0,
   "metadata": {},
   "outputs": [],
   "source": [
    "# Create the Snowpark Session and install packages\n",
    "dku_snowpark = DkuSnowpark()"
   ]
  },
  {
   "cell_type": "code",
   "execution_count": 0,
   "metadata": {},
   "outputs": [],
   "source": [
    "session = dku_snowpark.get_session(\"MLFlow\")\n",
    "session.add_packages(\"scikit-learn==1.0.2\", \"pandas\", \"numpy\")"
   ]
  },
  {
   "cell_type": "code",
   "execution_count": 0,
   "metadata": {},
   "outputs": [],
   "source": [
    "# Read input dataset for scoring\n",
    "input_dataset = dataiku.Dataset(\"uci_bank_evaluate_sf\")\n",
    "uci_band_evaluate_df = dku_snowpark.get_dataframe(input_dataset, session = session)\n",
    "\n",
    "features = list(uci_band_evaluate_df.columns)\n",
    "\n",
    "# This is a hack to deal with weird quoting issues going from Snowflake column name to column name for scoring\n",
    "features_1 = [item [1:-1] for item in features]"
   ]
  },
  {
   "cell_type": "code",
   "execution_count": 0,
   "metadata": {},
   "outputs": [],
   "source": [
    "# Read in the trained MLFlow model from S3\n",
    "mlflow_model_folder = dataiku.Folder(\"Py36\")\n",
    "\n",
    "s3_bucket = mlflow_model_folder.get_info()['accessInfo']['bucket']\n",
    "s3_subpath = mlflow_model_folder.get_info()['accessInfo']['root']\n",
    "model_path = '/python38_models/run_20230224181749/artifacts/RandomForestClassifier-run_20230224181749'\n",
    "full_model_path = \"s3://\" + s3_bucket + s3_subpath + model_path #+ s3_bucket + s3_subpath\n",
    "\n",
    "model = mlflow.sklearn.load_model(full_model_path)"
   ]
  },
  {
   "cell_type": "code",
   "execution_count": 0,
   "metadata": {},
   "outputs": [],
   "source": [
    "# Define Snowpark UDF which will take input records and score them using the MLFlow model\n",
    "@udf(name='predict_loan_payback',is_permanent = True, stage_location = '@UDF', replace=True)\n",
    "def predict_loan_payback(args: list) -> str:\n",
    "    row = pd.DataFrame([args], columns=features_1)\n",
    "    return model.predict(row)[0]"
   ]
  },
  {
   "cell_type": "code",
   "execution_count": 0,
   "metadata": {},
   "outputs": [],
   "source": [
    "# Run the model scoring UDF on the input dataset - save it explicitly to an output Snowflake table\n",
    "uci_band_evaluate_df.select(col('\"age\"'),\n",
    "                            col('\"job\"'),\n",
    "                            col('\"marital\"'),\n",
    "                            col('\"education\"'),\n",
    "                            col('\"default\"'),\n",
    "                            col('\"balance\"'),\n",
    "                            col('\"housing\"'),\n",
    "                            col('\"loan\"'),\n",
    "                            col('\"contact\"'),\n",
    "                            col('\"day\"'),\n",
    "                            col('\"month\"'),\n",
    "                            col('\"duration\"'),\n",
    "                            col('\"campaign\"'),\n",
    "                            col('\"pdays\"'),\n",
    "                            col('\"previous\"'),\n",
    "                            col('\"poutcome\"'),\n",
    "                            col('\"y\"'),\n",
    "                            F.call_udf(\"predict_loan_payback\", F.array_construct(*features)).alias('\"predicted_loan_payback\"')) \\\n",
    "        .write.mode('overwrite').saveAsTable(final_table_name)"
   ]
  }
 ],
 "metadata": {
  "associatedRecipe": "compute_uci_bank_evaluate_snowpark_scored",
  "createdOn": 1658966019077,
  "creationTag": {
   "lastModifiedBy": {
    "login": "patrick.masi-phelps"
   },
   "lastModifiedOn": 1658966019077,
   "versionNumber": 0
  },
  "creator": "patrick.masi-phelps",
  "customFields": {},
  "dkuGit": {
   "lastInteraction": 0
  },
  "hide_input": false,
  "kernelspec": {
   "display_name": "Python (env Python38)",
   "language": "python",
   "name": "py-dku-venv-python38"
  },
  "language_info": {
   "codemirror_mode": {
    "name": "ipython",
    "version": 3
   },
   "file_extension": ".py",
   "mimetype": "text/x-python",
   "name": "python",
   "nbconvert_exporter": "python",
   "pygments_lexer": "ipython3",
   "version": "3.8.16"
  },
  "modifiedBy": "kirsten.hoogenakker",
  "tags": [
   "recipe-editor"
  ]
 },
 "nbformat": 4,
 "nbformat_minor": 1
}
